{
  "nbformat": 4,
  "nbformat_minor": 2,
  "metadata": {
    "colab": {
      "name": "exercicios.ipynb",
      "provenance": [],
      "collapsed_sections": []
    },
    "kernelspec": {
      "name": "python3",
      "display_name": "Python 3.8.10 64-bit"
    },
    "language_info": {
      "name": "python",
      "version": "3.8.10",
      "mimetype": "text/x-python",
      "codemirror_mode": {
        "name": "ipython",
        "version": 3
      },
      "pygments_lexer": "ipython3",
      "nbconvert_exporter": "python",
      "file_extension": ".py"
    },
    "interpreter": {
      "hash": "31f2aee4e71d21fbe5cf8b01ff0e069b9275f58929596ceb00d14d90e3e16cd6"
    }
  },
  "cells": [
    {
      "cell_type": "markdown",
      "source": [
        "# **ESTRUTURA DE REPETIÇÃO**"
      ],
      "metadata": {
        "id": "9GU8582mihEl"
      }
    },
    {
      "cell_type": "code",
      "execution_count": null,
      "source": [],
      "outputs": [],
      "metadata": {
        "id": "fZy02UJpLvXa"
      }
    },
    {
      "cell_type": "code",
      "execution_count": 1,
      "source": [
        "#1 - Mostrar na tela números inteiros de 1 a 10\n",
        "num = 1\n",
        "while num <=10:\n",
        "  print(num)\n",
        "  num += 1\n"
      ],
      "outputs": [
        {
          "output_type": "stream",
          "name": "stdout",
          "text": [
            "1\n",
            "2\n",
            "3\n",
            "4\n",
            "5\n",
            "6\n",
            "7\n",
            "8\n",
            "9\n",
            "10\n"
          ]
        }
      ],
      "metadata": {
        "colab": {
          "base_uri": "https://localhost:8080/"
        },
        "id": "VBThfJXQAEkL",
        "outputId": "c04e91a6-8b29-413d-c476-dc6a4889ed34"
      }
    },
    {
      "cell_type": "code",
      "execution_count": null,
      "source": [
        "#2 - Mostrar na tela números inteiros de 10 a 1\n",
        "num = 10\n",
        "while num >= 1:\n",
        "  print(num)\n",
        "  num -=1"
      ],
      "outputs": [
        {
          "output_type": "stream",
          "name": "stdout",
          "text": [
            "10\n",
            "9\n",
            "8\n",
            "7\n",
            "6\n",
            "5\n",
            "4\n",
            "3\n",
            "2\n",
            "1\n"
          ]
        }
      ],
      "metadata": {
        "id": "wB4WfuQQDoAJ",
        "colab": {
          "base_uri": "https://localhost:8080/"
        },
        "outputId": "29003d19-b70d-4581-d38a-d00c4a97fc91"
      }
    },
    {
      "cell_type": "code",
      "execution_count": 3,
      "source": [
        "#3 - ler um número inteiro (N) maior que 1 e mostrar os números inteiros de 1 até N.\n",
        "num = int(input('Digite um numero inteiro: '))\n",
        "if num >1:\n",
        "  x = 1\n",
        "  while x <= num:\n",
        "    print(x)\n",
        "    x += 1\n",
        "else:\n",
        "  print('Digite um valor maior que 1')"
      ],
      "outputs": [
        {
          "output_type": "stream",
          "name": "stdout",
          "text": [
            "1\n",
            "2\n",
            "3\n",
            "4\n",
            "5\n",
            "6\n",
            "7\n",
            "8\n",
            "9\n",
            "10\n",
            "11\n",
            "12\n",
            "13\n",
            "14\n",
            "15\n",
            "16\n",
            "17\n",
            "18\n",
            "19\n",
            "20\n",
            "21\n",
            "22\n",
            "23\n",
            "24\n",
            "25\n"
          ]
        }
      ],
      "metadata": {
        "id": "lKF3JhJ8Dg5U",
        "colab": {
          "base_uri": "https://localhost:8080/"
        },
        "outputId": "2adc992e-4763-4294-babf-ab66363100b6"
      }
    },
    {
      "cell_type": "code",
      "execution_count": null,
      "source": [
        "#4 - Ler um número inteiro (N) e, se N é maior que 1, mostrar os números inteiros de 1 até N. Senão, mostre os números de N até 1.\n",
        "num = int(input('Digite um número inteiro: '))\n",
        "if num > 1:\n",
        "  x = 1\n",
        "  while x <= num:\n",
        "    print(x)\n",
        "    x += 1\n",
        "else:\n",
        "  while num <= 1:\n",
        "    print(num)\n",
        "    num += 1"
      ],
      "outputs": [
        {
          "output_type": "stream",
          "name": "stdout",
          "text": [
            "Digite um número inteiro: -7\n",
            "-7\n",
            "-6\n",
            "-5\n",
            "-4\n",
            "-3\n",
            "-2\n",
            "-1\n",
            "0\n",
            "1\n"
          ]
        }
      ],
      "metadata": {
        "colab": {
          "base_uri": "https://localhost:8080/"
        },
        "id": "_5T_WedB1erQ",
        "outputId": "d6f38f45-1c95-4b2a-9867-1c04d01f976e"
      }
    },
    {
      "cell_type": "code",
      "execution_count": null,
      "source": [
        "#5-Mostre os números pares de 200 até 100.\n",
        "num = 200\n",
        "while num >=100:\n",
        "  print(num)\n",
        "  num -= 2"
      ],
      "outputs": [],
      "metadata": {
        "id": "4_A2X1kIomZU"
      }
    },
    {
      "cell_type": "code",
      "execution_count": null,
      "source": [
        "#6-Mostre os números ímpares de 27 até 577\n",
        "num = 27\n",
        "while num <= 577:\n",
        "  print(num)\n",
        "  num += 2"
      ],
      "outputs": [],
      "metadata": {
        "id": "9fti7XrytUCy"
      }
    },
    {
      "cell_type": "code",
      "execution_count": null,
      "source": [
        "#7-Ler um número inteiro (N) e , se N é maior que 1, mostrar os números inteiros pares de 1 até N. Senão, mostre os números inteiro ímpares de N até 1. \n",
        "num = int(input('Digite um número inteiro'))\n",
        "if num > 1:\n",
        "  x = 2\n",
        "  while x <= num:\n",
        "    print(x)\n",
        "    x += 2\n",
        "elif num % 2 == 0:\n",
        "  x = num + 1\n",
        "  while x <= 1:\n",
        "    print(x)\n",
        "    x += 2\n",
        "else:\n",
        "  while num <= 1:\n",
        "    print(num)\n",
        "    num += 2\n"
      ],
      "outputs": [
        {
          "output_type": "stream",
          "name": "stdout",
          "text": [
            "Digite um número inteiro5\n",
            "2\n",
            "4\n"
          ]
        }
      ],
      "metadata": {
        "colab": {
          "base_uri": "https://localhost:8080/"
        },
        "id": "yGxNAtozvLU6",
        "outputId": "d481d2b1-1774-4f94-a2a1-7e01f9e393cb"
      }
    },
    {
      "cell_type": "code",
      "execution_count": null,
      "source": [
        "#8-Ler um número inteiro de 1 a 10 e mostrar a sua tabuada.\n",
        "num = int(input('Digite um número inteiro:'))\n",
        "x = 1\n",
        "while x <= 10:\n",
        "  print(f'{num} x {x} = {x*num:2}')\n",
        "  x += 1"
      ],
      "outputs": [
        {
          "output_type": "stream",
          "name": "stdout",
          "text": [
            "Digite um número inteiro:7\n",
            "7 x 1 =  7\n",
            "7 x 2 = 14\n",
            "7 x 3 = 21\n",
            "7 x 4 = 28\n",
            "7 x 5 = 35\n",
            "7 x 6 = 42\n",
            "7 x 7 = 49\n",
            "7 x 8 = 56\n",
            "7 x 9 = 63\n",
            "7 x 10 = 70\n"
          ]
        }
      ],
      "metadata": {
        "colab": {
          "base_uri": "https://localhost:8080/"
        },
        "id": "junEXgUdvQWC",
        "outputId": "db114f0a-10bc-425e-cc1e-37e96fa6c72b"
      }
    },
    {
      "cell_type": "code",
      "execution_count": null,
      "source": [
        "num = int(input('Digite um número inteiro:'))\n",
        "for x in range(1,11):\n",
        "  print(f'{num} x {x} = {num*x}')"
      ],
      "outputs": [
        {
          "output_type": "stream",
          "name": "stdout",
          "text": [
            "Digite um número inteiro:9\n",
            "9 x 1 = 9\n",
            "9 x 2 = 18\n",
            "9 x 3 = 27\n",
            "9 x 4 = 36\n",
            "9 x 5 = 45\n",
            "9 x 6 = 54\n",
            "9 x 7 = 63\n",
            "9 x 8 = 72\n",
            "9 x 9 = 81\n",
            "9 x 10 = 90\n"
          ]
        }
      ],
      "metadata": {
        "colab": {
          "base_uri": "https://localhost:8080/"
        },
        "id": "0BHIYGi_Gr3C",
        "outputId": "f2115315-420c-442f-9b2a-648d0f1e86b1"
      }
    }
  ]
}